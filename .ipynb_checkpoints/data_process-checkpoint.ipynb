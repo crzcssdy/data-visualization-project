{
 "cells": [
  {
   "cell_type": "code",
   "execution_count": 1,
   "metadata": {
    "scrolled": true,
    "vscode": {
     "languageId": "plaintext"
    }
   },
   "outputs": [],
   "source": [
    "import pandas as pd\n",
    "\n",
    "# Load the datasets\n",
    "fertility_df = pd.read_csv('Resources/Population and Ferility Data by Country.csv')\n",
    "gdp_df = pd.read_csv('Resources/GDP by Country_Data.csv')"
   ]
  },
  {
   "cell_type": "code",
   "execution_count": 3,
   "metadata": {},
   "outputs": [
    {
     "name": "stdout",
     "output_type": "stream",
     "text": [
      "Fertility Data Missing Values:\n",
      "Series Name      3\n",
      "Series Code      5\n",
      "Country Name     5\n",
      "Country Code     5\n",
      "1960 [YR1960]    5\n",
      "                ..\n",
      "2019 [YR2019]    5\n",
      "2020 [YR2020]    5\n",
      "2021 [YR2021]    5\n",
      "2022 [YR2022]    5\n",
      "2023 [YR2023]    5\n",
      "Length: 68, dtype: int64\n",
      "\n",
      "GDP Data Missing Values:\n",
      "Country Name     3\n",
      "Country Code     5\n",
      "Series Name      5\n",
      "Series Code      5\n",
      "1960 [YR1960]    5\n",
      "                ..\n",
      "2019 [YR2019]    5\n",
      "2020 [YR2020]    5\n",
      "2021 [YR2021]    5\n",
      "2022 [YR2022]    5\n",
      "2023 [YR2023]    5\n",
      "Length: 68, dtype: int64\n"
     ]
    }
   ],
   "source": [
    "#Check for missing values in both datasets\n",
    "fertility_missing = fertility_df.isnull().sum()\n",
    "gdp_missing = gdp_df.isnull().sum()\n",
    "\n",
    "print(\"Fertility Data Missing Values:\")\n",
    "print(fertility_missing)\n",
    "print(\"\\nGDP Data Missing Values:\")\n",
    "print(gdp_missing)"
   ]
  },
  {
   "cell_type": "code",
   "execution_count": 7,
   "metadata": {},
   "outputs": [],
   "source": [
    "\n",
    "# Handle missing values (for simplicity, we can fill them with a placeholder or use interpolation)\n",
    "# For fertility data, we can forward-fill\n",
    "fertility_df = fertility_df.ffill(axis=1)  # Use ffill for forward-filling\n",
    "\n",
    "# For GDP, we can fill missing values with a placeholder like 0\n",
    "gdp_df = gdp_df.fillna(0)"
   ]
  },
  {
   "cell_type": "code",
   "execution_count": 9,
   "metadata": {},
   "outputs": [],
   "source": [
    "# Ensure year columns are integers (Some columns might have extra spaces or different formats)\n",
    "fertility_df.columns = [col.strip() for col in fertility_df.columns]  # Remove any extra spaces\n",
    "gdp_df.columns = [col.strip() for col in gdp_df.columns]  # Remove any extra spaces"
   ]
  },
  {
   "cell_type": "code",
   "execution_count": 11,
   "metadata": {},
   "outputs": [],
   "source": [
    "# Reshape the data (pivot the data so we can have years as columns)\n",
    "fertility_long = pd.melt(fertility_df, id_vars=[\"Series Name\", \"Series Code\", \"Country Name\", \"Country Code\"], \n",
    "                         var_name=\"Year\", value_name=\"Fertility Rate\")\n",
    "gdp_long = pd.melt(gdp_df, id_vars=[\"Country Name\", \"Country Code\", \"Series Name\", \"Series Code\"], \n",
    "                   var_name=\"Year\", value_name=\"GDP\")"
   ]
  },
  {
   "cell_type": "code",
   "execution_count": 15,
   "metadata": {},
   "outputs": [],
   "source": [
    "# Clean the Year column (remove non-integer values)\n",
    "fertility_long['Year'] = pd.to_numeric(fertility_long['Year'], errors='coerce')\n",
    "gdp_long['Year'] = pd.to_numeric(gdp_long['Year'], errors='coerce')"
   ]
  },
  {
   "cell_type": "code",
   "execution_count": 21,
   "metadata": {},
   "outputs": [],
   "source": [
    "# Merge the datasets by Country Name, Country Code, and Year\n",
    "merged_df = pd.merge(fertility_long, gdp_long, on=[\"Country Name\", \"Country Code\", \"Year\"], how=\"inner\")"
   ]
  },
  {
   "cell_type": "code",
   "execution_count": 23,
   "metadata": {},
   "outputs": [],
   "source": [
    "# Ensure the data types are correct (e.g., convert Year to integer, GDP to numeric)\n",
    "merged_df['Year'] = merged_df['Year'].astype(int)\n",
    "merged_df['Fertility Rate'] = pd.to_numeric(merged_df['Fertility Rate'], errors='coerce')\n",
    "merged_df['GDP'] = pd.to_numeric(merged_df['GDP'], errors='coerce')"
   ]
  },
  {
   "cell_type": "code",
   "execution_count": null,
   "metadata": {},
   "outputs": [],
   "source": [
    "# Filter data for years 2014 to 2024\n",
    "merged_df = merged_df[(merged_df['Year'] >= 2014) & (merged_df['Year'] <= 2024)]"
   ]
  },
  {
   "cell_type": "code",
   "execution_count": 25,
   "metadata": {},
   "outputs": [],
   "source": [
    "# Handle any remaining missing values in the merged dataset (if needed)\n",
    "merged_df = merged_df.dropna(subset=['Fertility Rate', 'GDP'])"
   ]
  },
  {
   "cell_type": "code",
   "execution_count": 27,
   "metadata": {},
   "outputs": [],
   "source": [
    "# Save the cleaned and merged dataset to CSV\n",
    "merged_df.to_csv('Resources/cleaned_population_fertility_gdp_data.csv', index=False)"
   ]
  },
  {
   "cell_type": "code",
   "execution_count": 35,
   "metadata": {},
   "outputs": [],
   "source": [
    "# Save the cleaned and merged dataset to JSON\n",
    "merged_df.to_json('Resources/cleaned_population_fertility_gdp_data.json', orient='records', lines=True)"
   ]
  },
  {
   "cell_type": "code",
   "execution_count": 31,
   "metadata": {},
   "outputs": [
    {
     "data": {
      "text/html": [
       "<div>\n",
       "<style scoped>\n",
       "    .dataframe tbody tr th:only-of-type {\n",
       "        vertical-align: middle;\n",
       "    }\n",
       "\n",
       "    .dataframe tbody tr th {\n",
       "        vertical-align: top;\n",
       "    }\n",
       "\n",
       "    .dataframe thead th {\n",
       "        text-align: right;\n",
       "    }\n",
       "</style>\n",
       "<table border=\"1\" class=\"dataframe\">\n",
       "  <thead>\n",
       "    <tr style=\"text-align: right;\">\n",
       "      <th></th>\n",
       "      <th>Series Name_x</th>\n",
       "      <th>Series Code_x</th>\n",
       "      <th>Country Name</th>\n",
       "      <th>Country Code</th>\n",
       "      <th>Year</th>\n",
       "      <th>Fertility Rate</th>\n",
       "      <th>Series Name_y</th>\n",
       "      <th>Series Code_y</th>\n",
       "      <th>GDP</th>\n",
       "    </tr>\n",
       "  </thead>\n",
       "  <tbody>\n",
       "    <tr>\n",
       "      <th>2</th>\n",
       "      <td>Fertility rate, total (births per woman)</td>\n",
       "      <td>SP.DYN.TFRT.IN</td>\n",
       "      <td>Africa Eastern and Southern</td>\n",
       "      <td>AFE</td>\n",
       "      <td>1960</td>\n",
       "      <td>6.724125</td>\n",
       "      <td>GDP per capita (current US$)</td>\n",
       "      <td>NY.GDP.PCAP.CD</td>\n",
       "      <td>162.342517</td>\n",
       "    </tr>\n",
       "    <tr>\n",
       "      <th>4</th>\n",
       "      <td>Fertility rate, total (births per woman)</td>\n",
       "      <td>SP.DYN.TFRT.IN</td>\n",
       "      <td>Africa Western and Central</td>\n",
       "      <td>AFW</td>\n",
       "      <td>1960</td>\n",
       "      <td>6.458448</td>\n",
       "      <td>GDP per capita (current US$)</td>\n",
       "      <td>NY.GDP.PCAP.CD</td>\n",
       "      <td>122.193931</td>\n",
       "    </tr>\n",
       "    <tr>\n",
       "      <th>8</th>\n",
       "      <td>Fertility rate, total (births per woman)</td>\n",
       "      <td>SP.DYN.TFRT.IN</td>\n",
       "      <td>Algeria</td>\n",
       "      <td>DZA</td>\n",
       "      <td>1960</td>\n",
       "      <td>7.503000</td>\n",
       "      <td>GDP per capita (current US$)</td>\n",
       "      <td>NY.GDP.PCAP.CD</td>\n",
       "      <td>239.033006</td>\n",
       "    </tr>\n",
       "    <tr>\n",
       "      <th>26</th>\n",
       "      <td>Fertility rate, total (births per woman)</td>\n",
       "      <td>SP.DYN.TFRT.IN</td>\n",
       "      <td>Australia</td>\n",
       "      <td>AUS</td>\n",
       "      <td>1960</td>\n",
       "      <td>3.453000</td>\n",
       "      <td>GDP per capita (current US$)</td>\n",
       "      <td>NY.GDP.PCAP.CD</td>\n",
       "      <td>1810.597443</td>\n",
       "    </tr>\n",
       "    <tr>\n",
       "      <th>28</th>\n",
       "      <td>Fertility rate, total (births per woman)</td>\n",
       "      <td>SP.DYN.TFRT.IN</td>\n",
       "      <td>Austria</td>\n",
       "      <td>AUT</td>\n",
       "      <td>1960</td>\n",
       "      <td>2.690000</td>\n",
       "      <td>GDP per capita (current US$)</td>\n",
       "      <td>NY.GDP.PCAP.CD</td>\n",
       "      <td>943.610800</td>\n",
       "    </tr>\n",
       "  </tbody>\n",
       "</table>\n",
       "</div>"
      ],
      "text/plain": [
       "                               Series Name_x   Series Code_x  \\\n",
       "2   Fertility rate, total (births per woman)  SP.DYN.TFRT.IN   \n",
       "4   Fertility rate, total (births per woman)  SP.DYN.TFRT.IN   \n",
       "8   Fertility rate, total (births per woman)  SP.DYN.TFRT.IN   \n",
       "26  Fertility rate, total (births per woman)  SP.DYN.TFRT.IN   \n",
       "28  Fertility rate, total (births per woman)  SP.DYN.TFRT.IN   \n",
       "\n",
       "                   Country Name Country Code  Year  Fertility Rate  \\\n",
       "2   Africa Eastern and Southern          AFE  1960        6.724125   \n",
       "4    Africa Western and Central          AFW  1960        6.458448   \n",
       "8                       Algeria          DZA  1960        7.503000   \n",
       "26                    Australia          AUS  1960        3.453000   \n",
       "28                      Austria          AUT  1960        2.690000   \n",
       "\n",
       "                   Series Name_y   Series Code_y          GDP  \n",
       "2   GDP per capita (current US$)  NY.GDP.PCAP.CD   162.342517  \n",
       "4   GDP per capita (current US$)  NY.GDP.PCAP.CD   122.193931  \n",
       "8   GDP per capita (current US$)  NY.GDP.PCAP.CD   239.033006  \n",
       "26  GDP per capita (current US$)  NY.GDP.PCAP.CD  1810.597443  \n",
       "28  GDP per capita (current US$)  NY.GDP.PCAP.CD   943.610800  "
      ]
     },
     "execution_count": 31,
     "metadata": {},
     "output_type": "execute_result"
    }
   ],
   "source": [
    "# Show the first few rows of the cleaned dataset\n",
    "merged_df.head()"
   ]
  },
  {
   "cell_type": "code",
   "execution_count": null,
   "metadata": {},
   "outputs": [],
   "source": []
  }
 ],
 "metadata": {
  "kernelspec": {
   "display_name": "Python 3 (ipykernel)",
   "language": "python",
   "name": "python3"
  },
  "language_info": {
   "codemirror_mode": {
    "name": "ipython",
    "version": 3
   },
   "file_extension": ".py",
   "mimetype": "text/x-python",
   "name": "python",
   "nbconvert_exporter": "python",
   "pygments_lexer": "ipython3",
   "version": "3.12.4"
  }
 },
 "nbformat": 4,
 "nbformat_minor": 4
}
