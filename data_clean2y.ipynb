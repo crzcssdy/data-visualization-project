{
 "cells": [
  {
   "cell_type": "code",
   "execution_count": 3,
   "metadata": {
    "scrolled": true
   },
   "outputs": [],
   "source": [
    "import pandas as pd\n",
    "\n",
    "# Load the CSV file\n",
    "file_path = 'Resources/filtered_population_fertility_gdp_2014_2024.csv'\n",
    "df = pd.read_csv(file_path)"
   ]
  },
  {
   "cell_type": "code",
   "execution_count": 4,
   "metadata": {},
   "outputs": [],
   "source": [
    "# Rename columns to avoid duplicates and confusion\n",
    "df.columns = [\n",
    "    'Fertility_Series_Name', 'Fertility_Series_Code', 'Country_Name', 'Country_Code',\n",
    "    'Year', 'Fertility_Rate', 'GDP_Series_Name', 'GDP_Series_Code', 'GDP'\n",
    "]"
   ]
  },
  {
   "cell_type": "code",
   "execution_count": 5,
   "metadata": {},
   "outputs": [],
   "source": [
    "\n",
    "# Drop any unnecessary or extra columns (if needed)\n",
    "df = df[['Country_Name', 'Country_Code', 'Year', 'Fertility_Rate', 'GDP']]"
   ]
  },
  {
   "cell_type": "code",
   "execution_count": 6,
   "metadata": {},
   "outputs": [
    {
     "name": "stderr",
     "output_type": "stream",
     "text": [
      "C:\\Users\\jwidc\\AppData\\Local\\Temp\\ipykernel_22828\\2717728432.py:2: FutureWarning: A value is trying to be set on a copy of a DataFrame or Series through chained assignment using an inplace method.\n",
      "The behavior will change in pandas 3.0. This inplace method will never work because the intermediate object on which we are setting values always behaves as a copy.\n",
      "\n",
      "For example, when doing 'df[col].method(value, inplace=True)', try using 'df.method({col: value}, inplace=True)' or df[col] = df[col].method(value) instead, to perform the operation inplace on the original object.\n",
      "\n",
      "\n",
      "  df['Fertility_Rate'].fillna(method='ffill', inplace=True)\n",
      "C:\\Users\\jwidc\\AppData\\Local\\Temp\\ipykernel_22828\\2717728432.py:2: FutureWarning: Series.fillna with 'method' is deprecated and will raise in a future version. Use obj.ffill() or obj.bfill() instead.\n",
      "  df['Fertility_Rate'].fillna(method='ffill', inplace=True)\n",
      "C:\\Users\\jwidc\\AppData\\Local\\Temp\\ipykernel_22828\\2717728432.py:3: FutureWarning: A value is trying to be set on a copy of a DataFrame or Series through chained assignment using an inplace method.\n",
      "The behavior will change in pandas 3.0. This inplace method will never work because the intermediate object on which we are setting values always behaves as a copy.\n",
      "\n",
      "For example, when doing 'df[col].method(value, inplace=True)', try using 'df.method({col: value}, inplace=True)' or df[col] = df[col].method(value) instead, to perform the operation inplace on the original object.\n",
      "\n",
      "\n",
      "  df['GDP'].fillna(df['GDP'].mean(), inplace=True)\n"
     ]
    }
   ],
   "source": [
    "\n",
    "# Fill any missing values if required (e.g., using forward fill or mean for numeric columns)\n",
    "df['Fertility_Rate'].fillna(method='ffill', inplace=True)\n",
    "df['GDP'].fillna(df['GDP'].mean(), inplace=True)"
   ]
  },
  {
   "cell_type": "code",
   "execution_count": 7,
   "metadata": {},
   "outputs": [],
   "source": [
    "# Save the cleaned data to CSV and JSON\n",
    "df.to_csv('final_population_fertility_gdp.csv', index=False)\n",
    "df.to_json('final_population_fertility_gdp.json', orient='records', lines=True)\n"
   ]
  },
  {
   "cell_type": "code",
   "execution_count": 8,
   "metadata": {},
   "outputs": [
    {
     "data": {
      "text/html": [
       "<div>\n",
       "<style scoped>\n",
       "    .dataframe tbody tr th:only-of-type {\n",
       "        vertical-align: middle;\n",
       "    }\n",
       "\n",
       "    .dataframe tbody tr th {\n",
       "        vertical-align: top;\n",
       "    }\n",
       "\n",
       "    .dataframe thead th {\n",
       "        text-align: right;\n",
       "    }\n",
       "</style>\n",
       "<table border=\"1\" class=\"dataframe\">\n",
       "  <thead>\n",
       "    <tr style=\"text-align: right;\">\n",
       "      <th></th>\n",
       "      <th>Country_Name</th>\n",
       "      <th>Country_Code</th>\n",
       "      <th>Year</th>\n",
       "      <th>Fertility_Rate</th>\n",
       "      <th>GDP</th>\n",
       "    </tr>\n",
       "  </thead>\n",
       "  <tbody>\n",
       "    <tr>\n",
       "      <th>0</th>\n",
       "      <td>Afghanistan</td>\n",
       "      <td>AFG</td>\n",
       "      <td>2014</td>\n",
       "      <td>5.560000</td>\n",
       "      <td>626.512929</td>\n",
       "    </tr>\n",
       "    <tr>\n",
       "      <th>1</th>\n",
       "      <td>Afghanistan</td>\n",
       "      <td>AFG</td>\n",
       "      <td>2014</td>\n",
       "      <td>5.560000</td>\n",
       "      <td>-0.964803</td>\n",
       "    </tr>\n",
       "    <tr>\n",
       "      <th>2</th>\n",
       "      <td>Africa Eastern and Southern</td>\n",
       "      <td>AFE</td>\n",
       "      <td>2014</td>\n",
       "      <td>4.739861</td>\n",
       "      <td>1678.553610</td>\n",
       "    </tr>\n",
       "    <tr>\n",
       "      <th>3</th>\n",
       "      <td>Africa Eastern and Southern</td>\n",
       "      <td>AFE</td>\n",
       "      <td>2014</td>\n",
       "      <td>4.739861</td>\n",
       "      <td>1.175570</td>\n",
       "    </tr>\n",
       "    <tr>\n",
       "      <th>4</th>\n",
       "      <td>Africa Western and Central</td>\n",
       "      <td>AFW</td>\n",
       "      <td>2014</td>\n",
       "      <td>5.437493</td>\n",
       "      <td>2248.518426</td>\n",
       "    </tr>\n",
       "  </tbody>\n",
       "</table>\n",
       "</div>"
      ],
      "text/plain": [
       "                  Country_Name Country_Code  Year  Fertility_Rate          GDP\n",
       "0                  Afghanistan          AFG  2014        5.560000   626.512929\n",
       "1                  Afghanistan          AFG  2014        5.560000    -0.964803\n",
       "2  Africa Eastern and Southern          AFE  2014        4.739861  1678.553610\n",
       "3  Africa Eastern and Southern          AFE  2014        4.739861     1.175570\n",
       "4   Africa Western and Central          AFW  2014        5.437493  2248.518426"
      ]
     },
     "execution_count": 8,
     "metadata": {},
     "output_type": "execute_result"
    }
   ],
   "source": [
    "# Show the first few rows of the cleaned dataframe to verify\n",
    "df.head()"
   ]
  }
 ],
 "metadata": {
  "kernelspec": {
   "display_name": "base",
   "language": "python",
   "name": "python3"
  },
  "language_info": {
   "codemirror_mode": {
    "name": "ipython",
    "version": 3
   },
   "file_extension": ".py",
   "mimetype": "text/x-python",
   "name": "python",
   "nbconvert_exporter": "python",
   "pygments_lexer": "ipython3",
   "version": "3.12.4"
  }
 },
 "nbformat": 4,
 "nbformat_minor": 4
}
