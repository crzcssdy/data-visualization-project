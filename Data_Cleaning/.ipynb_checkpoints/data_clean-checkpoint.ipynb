{
 "cells": [
  {
   "cell_type": "code",
   "execution_count": 22,
   "metadata": {
    "scrolled": true
   },
   "outputs": [],
   "source": [
    "import pandas as pd\n",
    "import re\n",
    "import pycountry\n",
    "import json\n",
    "\n",
    "def extract_numeric_year(column_name):\n",
    "  match = re.match(r'(\\d+) \\[YR(\\d+)\\]', column_name)\n",
    "  if match:\n",
    "    return match.group(1)\n",
    "  else:\n",
    "    return column_name\n",
    "      \n",
    "# Load the datasets\n",
    "fertility_df = pd.read_csv(\"Resources/Population and Ferility Data by Country.csv\")\n",
    "gdp_df = pd.read_csv(\"Resources/GDP by Country_Data.csv\")"
   ]
  },
  {
   "cell_type": "code",
   "execution_count": 24,
   "metadata": {},
   "outputs": [],
   "source": [
    "# Apply the function to extract numeric year from column names\n",
    "fertility_df.columns = fertility_df.columns.map(extract_numeric_year)\n",
    "gdp_df.columns = gdp_df.columns.map(extract_numeric_year)"
   ]
  },
  {
   "cell_type": "code",
   "execution_count": 26,
   "metadata": {},
   "outputs": [
    {
     "name": "stdout",
     "output_type": "stream",
     "text": [
      "Fertility Data Missing Values:\n",
      "Series Name     3\n",
      "Series Code     5\n",
      "Country Name    5\n",
      "Country Code    5\n",
      "1960            5\n",
      "               ..\n",
      "2019            5\n",
      "2020            5\n",
      "2021            5\n",
      "2022            5\n",
      "2023            5\n",
      "Length: 68, dtype: int64\n",
      "\n",
      "GDP Data Missing Values:\n",
      "Country Name    3\n",
      "Country Code    5\n",
      "Series Name     5\n",
      "Series Code     5\n",
      "1960            5\n",
      "               ..\n",
      "2019            5\n",
      "2020            5\n",
      "2021            5\n",
      "2022            5\n",
      "2023            5\n",
      "Length: 68, dtype: int64\n"
     ]
    }
   ],
   "source": [
    "#Check for missing values in both datasets\n",
    "fertility_missing = fertility_df.isnull().sum()\n",
    "gdp_missing = gdp_df.isnull().sum()\n",
    "\n",
    "print(\"Fertility Data Missing Values:\")\n",
    "print(fertility_missing)\n",
    "print(\"\\nGDP Data Missing Values:\")\n",
    "print(gdp_missing)"
   ]
  },
  {
   "cell_type": "code",
   "execution_count": 28,
   "metadata": {},
   "outputs": [],
   "source": [
    "# Ensure year columns are integers (Some columns might have extra spaces or different formats)\n",
    "fertility_df.columns = [col.strip() for col in fertility_df.columns]  # Remove any extra spaces\n",
    "gdp_df.columns = [col.strip() for col in gdp_df.columns]  # Remove any extra spaces"
   ]
  },
  {
   "cell_type": "code",
   "execution_count": 30,
   "metadata": {},
   "outputs": [],
   "source": [
    "# Reshape the data (pivot the data so we can have years as columns)\n",
    "fertility_long = pd.melt(fertility_df, id_vars=[\"Series Name\", \"Country Name\", \"Country Code\"], \n",
    "                         var_name=\"Year\", value_name=\"Fertility Rate\")\n",
    "gdp_long = pd.melt(gdp_df, id_vars=[\"Country Name\", \"Country Code\", \"Series Name\", \"Series Code\"], \n",
    "                   var_name=\"Year\", value_name=\"GDP\")"
   ]
  },
  {
   "cell_type": "code",
   "execution_count": 32,
   "metadata": {},
   "outputs": [],
   "source": [
    "# Clean the Year column (remove non-integer values)\n",
    "fertility_long['Year'] = pd.to_numeric(fertility_long['Year'], errors='coerce')\n",
    "gdp_long['Year'] = pd.to_numeric(gdp_long['Year'], errors='coerce')"
   ]
  },
  {
   "cell_type": "code",
   "execution_count": 34,
   "metadata": {},
   "outputs": [],
   "source": [
    "# Remove Decimal and Drop NaN values\n",
    "fertility_long.dropna(subset=['Year'], inplace=True)\n",
    "gdp_long.dropna(subset=['Year'], inplace=True)\n",
    "fertility_long['Year'] = fertility_long['Year'].astype(int)\n",
    "gdp_long['Year'] = gdp_long['Year'].astype(int)"
   ]
  },
  {
   "cell_type": "code",
   "execution_count": 36,
   "metadata": {},
   "outputs": [],
   "source": [
    "# Merge the datasets by Country Name, Country Code, and Year\n",
    "merged_df = pd.merge(fertility_long, gdp_long, on=[\"Country Name\", \"Country Code\", \"Year\"], how=\"inner\")"
   ]
  },
  {
   "cell_type": "code",
   "execution_count": 38,
   "metadata": {},
   "outputs": [],
   "source": [
    "# Ensure the data types are correct (e.g., convert Year to integer, GDP to numeric)\n",
    "merged_df['Year'] = merged_df['Year'].astype(int)\n",
    "merged_df['Fertility Rate'] = pd.to_numeric(merged_df['Fertility Rate'], errors='coerce')\n",
    "merged_df['GDP'] = pd.to_numeric(merged_df['GDP'], errors='coerce')"
   ]
  },
  {
   "cell_type": "code",
   "execution_count": 40,
   "metadata": {},
   "outputs": [],
   "source": [
    "# Replace missing values with 0\n",
    "merged_df['Fertility Rate'] = merged_df['Fertility Rate'].fillna(0)\n",
    "merged_df['GDP'] = merged_df['GDP'].fillna(0)"
   ]
  },
  {
   "cell_type": "code",
   "execution_count": 42,
   "metadata": {},
   "outputs": [],
   "source": [
    "# Create a list of valid country names\n",
    "valid_countries = [country.name for country in pycountry.countries]\n",
    "\n",
    "# Filter rows based on country names\n",
    "merged_df = merged_df[merged_df['Country Name'].isin(valid_countries)]"
   ]
  },
  {
   "cell_type": "code",
   "execution_count": 46,
   "metadata": {},
   "outputs": [],
   "source": [
    "# Filter the dataset for the years 2014 to 2024\n",
    "filtered_df = merged_df[merged_df['Year'].between(2014, 2024)]"
   ]
  },
  {
   "cell_type": "code",
   "execution_count": 50,
   "metadata": {},
   "outputs": [],
   "source": [
    "# Save the filtered data to a CSV and JSONfile\n",
    "filtered_df.to_csv('Resources/filtered_population_fertility_gdp_2014_2024.csv', index=False)\n",
    "#filtered_df.to_json('Resources/filtered_population_fertility_gdp_2014_2024.json', orient='records', lines=True)"
   ]
  },
  {
   "cell_type": "code",
   "execution_count": null,
   "metadata": {},
   "outputs": [],
   "source": []
  }
 ],
 "metadata": {
  "kernelspec": {
   "display_name": "Python 3 (ipykernel)",
   "language": "python",
   "name": "python3"
  },
  "language_info": {
   "codemirror_mode": {
    "name": "ipython",
    "version": 3
   },
   "file_extension": ".py",
   "mimetype": "text/x-python",
   "name": "python",
   "nbconvert_exporter": "python",
   "pygments_lexer": "ipython3",
   "version": "3.12.4"
  }
 },
 "nbformat": 4,
 "nbformat_minor": 4
}
